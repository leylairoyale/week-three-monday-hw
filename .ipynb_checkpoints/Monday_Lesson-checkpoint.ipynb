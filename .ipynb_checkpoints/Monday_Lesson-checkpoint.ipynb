{
 "cells": [
  {
   "cell_type": "markdown",
   "metadata": {},
   "source": [
    "# Advanced Object-Oriented-Programming (OOP)"
   ]
  },
  {
   "cell_type": "markdown",
   "metadata": {},
   "source": [
    "## Tasks Today:\n",
    "\n",
    "1) <b>Creating Multiple Instances Through Loops</b> <br>\n",
    " &nbsp;&nbsp;&nbsp;&nbsp; a) Using Loops <br>\n",
    " &nbsp;&nbsp;&nbsp;&nbsp; b) Using Multiple Lists with Loops <br>\n",
    " &nbsp;&nbsp;&nbsp;&nbsp; c) Using List Comprehension with Classes<br>\n",
    " &nbsp;&nbsp;&nbsp;&nbsp; d) In-Class Exercise #1 <br>\n",
    "2) <b>Magic Methods</b> <br>\n",
    " &nbsp;&nbsp;&nbsp;&nbsp; a) \\__str\\__ <br>\n",
    " &nbsp;&nbsp;&nbsp;&nbsp; b) \\__add\\__ <br>\n",
    " &nbsp;&nbsp;&nbsp;&nbsp; c) Overriding Magic Methods <br>\n",
    " &nbsp;&nbsp;&nbsp;&nbsp; d) In-Class Exercise #2 <br>\n",
    "3) <b>Inheritance & Method Overriding (recap)</b> <br>\n",
    " &nbsp;&nbsp;&nbsp;&nbsp; a) Inheriting (recap)  <br>\n",
    " &nbsp;&nbsp;&nbsp;&nbsp; b) Overriding Inherited Magic Methods <br>\n",
    " &nbsp;&nbsp;&nbsp;&nbsp; c) Inheriting Multiple Classes <br>\n",
    " &nbsp;&nbsp;&nbsp;&nbsp; d) In-Class Exercise #3 <br>"
   ]
  },
  {
   "cell_type": "markdown",
   "metadata": {},
   "source": [
    "## Creating Multiple Instances Through Loops <br>\n",
    "<p>We can use loops to create multiple instances of a single object in just a couple of lines, even just one line.</p>"
   ]
  },
  {
   "cell_type": "markdown",
   "metadata": {},
   "source": [
    "#### Using Loops"
   ]
  },
  {
   "cell_type": "code",
   "execution_count": 2,
   "metadata": {},
   "outputs": [
    {
     "name": "stdout",
     "output_type": "stream",
     "text": [
      "this animal has 0 legs and is named flipper\n",
      "this animal has 1 legs and is named flipper\n",
      "this animal has 2 legs and is named flipper\n",
      "this animal has 3 legs and is named flipper\n",
      "this animal has 4 legs and is named flipper\n"
     ]
    }
   ],
   "source": [
    "#Presentation Code\n",
    "class Dog():\n",
    "    def __init__(self, name, legs):\n",
    "        self.name = name\n",
    "        self.legs = legs\n",
    "        \n",
    "    def printInfo(self):\n",
    "        print(\"this animal has {} legs and is named {}\".format(self.legs, self.name))\n",
    "        \n",
    "        \n",
    "# multiple instances assigned into different variables\n",
    "dog1 = Dog('Lassie', 4)\n",
    "dog2 = Dog('Max', 4)\n",
    "\n",
    "#dog1.printInfo()\n",
    "#dog2.printInfo()\n",
    "\n",
    "\n",
    "# multiple instances using a for loop, stored into a list\n",
    "dogs = []\n",
    "\n",
    "\n",
    "# this loop will create 5 instances of dog, with the name max, and legs of i\n",
    "#presentation Code\n",
    "for i in range(5):\n",
    "    dogs.append(Dog(\"flipper\", i))\n",
    "    \n",
    "for i in range(len(dogs)):\n",
    "    dogs[i].printInfo()\n",
    "# call printInfo for each dog using another for loop\n",
    "# print(dogs)\n",
    "\n",
    "# dogs[0].printInfo()\n",
    "\n",
    "#Presentation Code\n",
    "\n",
    "#this kind of thing is good for if you have a lot of different bits of data that maybe \n",
    "#you wanna analyze over a few times; makes copies of info for you. "
   ]
  },
  {
   "cell_type": "markdown",
   "metadata": {},
   "source": [
    "#### Using Multiple Lists with Loops"
   ]
  },
  {
   "cell_type": "code",
   "execution_count": 3,
   "metadata": {},
   "outputs": [
    {
     "name": "stdout",
     "output_type": "stream",
     "text": [
      "this animal has 6 legs and is named Flotiss\n",
      "this animal has 6 legs and is named Heartbush\n",
      "this animal has 6 legs and is named GranolaPuppy\n",
      "this animal has 6 legs and is named Ol Joe\n"
     ]
    }
   ],
   "source": [
    "names = [\"Flotiss\", \"Heartbush\", \"GranolaPuppy\", \"Ol Joe\"]\n",
    "dogs = []\n",
    "\n",
    "for i in range(len(names)):\n",
    "    dogs.append(Dog(names[i], 6))\n",
    "    \n",
    "for i in range(len(dogs)):\n",
    "    dogs[i].printInfo()"
   ]
  },
  {
   "cell_type": "markdown",
   "metadata": {},
   "source": [
    "#### Using List Comprehension with Classes"
   ]
  },
  {
   "cell_type": "code",
   "execution_count": 4,
   "metadata": {},
   "outputs": [
    {
     "name": "stdout",
     "output_type": "stream",
     "text": [
      "this animal has 7 legs and is named Flotiss\n",
      "this animal has 7 legs and is named Heartbush\n",
      "this animal has 7 legs and is named GranolaPuppy\n",
      "this animal has 7 legs and is named Ol Joe\n"
     ]
    }
   ],
   "source": [
    "dogs = [Dog(names[i], 7) for i in range(len(names))]\n",
    "\n",
    "for dog in dogs:\n",
    "    dog.printInfo()\n",
    "    \n",
    "#same as above, just a lot fewer words"
   ]
  },
  {
   "cell_type": "markdown",
   "metadata": {},
   "source": [
    "#### In-Class Exercise #1 - Use List Comprehension to create multiple 'Dog' objects using the lists below... <br>\n",
    "<p>names = ['max', 'lassy', 'sammi']<br>colors=['brown', 'black', 'mix']</p>"
   ]
  },
  {
   "cell_type": "code",
   "execution_count": 5,
   "metadata": {},
   "outputs": [
    {
     "name": "stdout",
     "output_type": "stream",
     "text": [
      "This dog's name is max and they're a brown-ish color.\n",
      "This dog's name is lassy and they're a black-ish color.\n",
      "This dog's name is sammi and they're a mix-ish color.\n"
     ]
    }
   ],
   "source": [
    "class Dog():\n",
    "    \n",
    "    def __init__(self, name, color):\n",
    "        self.name = name\n",
    "        self.color = color\n",
    "    \n",
    "    def printInfo(self):\n",
    "        print(\"This dog's name is {} and they're a {}-ish color.\".format(self.name, self.color))\n",
    "\n",
    "names = ['max', 'lassy', 'sammi']\n",
    "colors=['brown', 'black', 'mix']\n",
    "\n",
    "dogs = [Dog(names[i], colors[i]) for i in range(len(names))]\n",
    "\n",
    "for dog in dogs:\n",
    "    dog.printInfo()"
   ]
  },
  {
   "cell_type": "code",
   "execution_count": 13,
   "metadata": {},
   "outputs": [
    {
     "name": "stdout",
     "output_type": "stream",
     "text": [
      "brown is the color of max.\n",
      "black is the color of lassy.\n",
      "mix is the color of sammi.\n"
     ]
    }
   ],
   "source": [
    "#joel's way of doing it.\n",
    "\n",
    "names = ['max', 'lassy', 'sammi']\n",
    "colors=['brown', 'black', 'mix']\n",
    "class Dog():\n",
    "    def __init__(self, name, color):\n",
    "        self.name = name\n",
    "        self.color = color\n",
    "        \n",
    "    def printInfo(self):\n",
    "        print(\"{} is the color of {}.\".format(self.color, self.name))\n",
    "        \n",
    "dogs = [Dog(names[i], colors[i]) for i in range(len(names))]\n",
    "\n",
    "for dog in dogs:\n",
    "    dog.printInfo()"
   ]
  },
  {
   "cell_type": "code",
   "execution_count": 23,
   "metadata": {},
   "outputs": [
    {
     "name": "stdout",
     "output_type": "stream",
     "text": [
      "give me a secret word!!!banana\n"
     ]
    },
    {
     "ename": "TypeError",
     "evalue": "'builtin_function_or_method' object is not subscriptable",
     "output_type": "error",
     "traceback": [
      "\u001b[1;31m---------------------------------------------------------------------------\u001b[0m",
      "\u001b[1;31mTypeError\u001b[0m                                 Traceback (most recent call last)",
      "\u001b[1;32m<ipython-input-23-ee5f835ea9f3>\u001b[0m in \u001b[0;36m<module>\u001b[1;34m\u001b[0m\n\u001b[0;32m      8\u001b[0m \u001b[0manswer\u001b[0m \u001b[1;33m=\u001b[0m \u001b[1;33m[\u001b[0m\u001b[1;33m]\u001b[0m\u001b[1;33m\u001b[0m\u001b[1;33m\u001b[0m\u001b[0m\n\u001b[0;32m      9\u001b[0m \u001b[1;32mfor\u001b[0m \u001b[0mi\u001b[0m \u001b[1;32min\u001b[0m \u001b[0mstr\u001b[0m\u001b[1;33m(\u001b[0m\u001b[0mmagic_word\u001b[0m\u001b[1;33m)\u001b[0m\u001b[1;33m:\u001b[0m\u001b[1;33m\u001b[0m\u001b[1;33m\u001b[0m\u001b[0m\n\u001b[1;32m---> 10\u001b[1;33m     \u001b[0mlist_magic\u001b[0m\u001b[1;33m.\u001b[0m\u001b[0mappend\u001b[0m\u001b[1;33m[\u001b[0m\u001b[0mi\u001b[0m\u001b[1;33m]\u001b[0m\u001b[1;33m\u001b[0m\u001b[1;33m\u001b[0m\u001b[0m\n\u001b[0m\u001b[0;32m     11\u001b[0m \u001b[1;33m\u001b[0m\u001b[0m\n\u001b[0;32m     12\u001b[0m \u001b[1;32mwhile\u001b[0m \u001b[0mguess\u001b[0m \u001b[1;33m!=\u001b[0m \u001b[0mmagic_word\u001b[0m\u001b[1;33m:\u001b[0m\u001b[1;33m\u001b[0m\u001b[1;33m\u001b[0m\u001b[0m\n",
      "\u001b[1;31mTypeError\u001b[0m: 'builtin_function_or_method' object is not subscriptable"
     ]
    }
   ],
   "source": [
    "#create a place for the user to input a single word as a string.\n",
    "#if the guesser guesses a letter in the string, place that letter as it index point in the string\n",
    "#in the answer list.\n",
    "#apparently I'm doing this functionally\n",
    "magic_word = input(\"give me a secret word!!!\")\n",
    "guess = \"\"\n",
    "list_magic = []\n",
    "answer = []\n",
    "for i in str(magic_word):\n",
    "    list_magic.append[i]\n",
    "\n",
    "while guess != magic_word:\n",
    "    guess = input(\"Guess a word! \")\n",
    "    if guess != \"give up\":\n",
    "        for i in guess:\n",
    "            for j in list_magic:\n",
    "                if i == j:\n",
    "                    answer.append[i]\n",
    "                    print(\"Yep, {} is in the Magic Word!\".format(i))\n",
    "                    break\n",
    "                elif i != j:\n",
    "                    print(\"Sorry, {} is not in the word.\".format(i))\n",
    "    elif guess == \"give up\":\n",
    "        print(\"You lose! The magic word was {}\".format(magic_word))\n",
    "        break\n",
    "    \n",
    "\n",
    "            \n",
    "    "
   ]
  },
  {
   "cell_type": "markdown",
   "metadata": {},
   "source": [
    "## Magic Methods <br>\n",
    "<p>Magic methods are any method that begins and ends with two underscores... You've already seen one of them in __init__(). Magic methods are the general functionality of an object, and you have the ability to overwrite what those methods do, giving you flexibility in your program.</p>"
   ]
  },
  {
   "cell_type": "markdown",
   "metadata": {},
   "source": [
    "#### \\__str\\__ <br>\n",
    "<p>This is the output of an object when you print the object itself.</p>"
   ]
  },
  {
   "cell_type": "code",
   "execution_count": 18,
   "metadata": {},
   "outputs": [
    {
     "name": "stdout",
     "output_type": "stream",
     "text": [
      "Malamal is 87 years old and has 14 toes.\n"
     ]
    }
   ],
   "source": [
    "class Person():\n",
    "    def __init__(self, name, age, number_of_toes):\n",
    "        self.name = name\n",
    "        self.age = age\n",
    "        self.number_of_toes = number_of_toes\n",
    "        \n",
    "        #getting rid of the typical __str__ thing\n",
    "    def __str__(self):\n",
    "        return \"{} is {} years old and has {} toes.\".format(self.name, self.age, self.number_of_toes)\n",
    "        #you can't have a print, you have to have a return here because the str magic method is\n",
    "        #looking for a string to be returned to it. \n",
    "        \n",
    "malamal = Person(\"Malamal\", \"87\", \"14\")\n",
    "\n",
    "print(malamal)"
   ]
  },
  {
   "cell_type": "markdown",
   "metadata": {},
   "source": [
    "#### \\__add\\__"
   ]
  },
  {
   "cell_type": "code",
   "execution_count": 21,
   "metadata": {
    "scrolled": true
   },
   "outputs": [
    {
     "name": "stdout",
     "output_type": "stream",
     "text": [
      "49\n"
     ]
    }
   ],
   "source": [
    "num = 10\n",
    "num.__add__(5)\n",
    "#so you can use magic methods to do things easier. you can also override these if you need.\n",
    "#here's overriding it. \n",
    "\n",
    "class Dog():\n",
    "    \n",
    "    def __init__(self, name, color, legs):\n",
    "        self.name = name\n",
    "        self.color = color\n",
    "        self.legs = legs\n",
    "        \n",
    "        #overriding it.\n",
    "    def __add__(self, extra_number):\n",
    "        if type(extra_number) != int:\n",
    "            return self.legs + extra_number.legs\n",
    "        else:\n",
    "            return self.legs + extra_number\n",
    "        \n",
    "doggie = Dog(\"Poiinty Boy\", \"generic dog color\", \"4\")\n",
    "doggy = Dog(\"rounds Boy\", \"ashen\", \"9\")\n",
    "\n",
    "num_legs = doggie + doggy\n",
    "print(num_legs)\n"
   ]
  },
  {
   "cell_type": "markdown",
   "metadata": {},
   "source": [
    "#### Overriding Magic Methods"
   ]
  },
  {
   "cell_type": "code",
   "execution_count": 56,
   "metadata": {},
   "outputs": [
    {
     "ename": "AttributeError",
     "evalue": "'Dragon' object has no attribute 'reversed'",
     "output_type": "error",
     "traceback": [
      "\u001b[1;31m---------------------------------------------------------------------------\u001b[0m",
      "\u001b[1;31mAttributeError\u001b[0m                            Traceback (most recent call last)",
      "\u001b[1;32m<ipython-input-56-b5b35f1655ab>\u001b[0m in \u001b[0;36m<module>\u001b[1;34m\u001b[0m\n\u001b[0;32m     16\u001b[0m \u001b[0mocho\u001b[0m \u001b[1;33m=\u001b[0m \u001b[0mDragon\u001b[0m\u001b[1;33m(\u001b[0m\u001b[1;34m\"Ocho\"\u001b[0m\u001b[1;33m,\u001b[0m \u001b[1;34m\"very thin\"\u001b[0m\u001b[1;33m,\u001b[0m \u001b[1;34m\"three\"\u001b[0m\u001b[1;33m)\u001b[0m\u001b[1;33m\u001b[0m\u001b[1;33m\u001b[0m\u001b[0m\n\u001b[0;32m     17\u001b[0m \u001b[1;33m\u001b[0m\u001b[0m\n\u001b[1;32m---> 18\u001b[1;33m \u001b[0mocho\u001b[0m\u001b[1;33m.\u001b[0m\u001b[0mreversed\u001b[0m\u001b[1;33m(\u001b[0m\u001b[1;33m)\u001b[0m\u001b[1;33m\u001b[0m\u001b[1;33m\u001b[0m\u001b[0m\n\u001b[0m\u001b[0;32m     19\u001b[0m \u001b[1;33m\u001b[0m\u001b[0m\n",
      "\u001b[1;31mAttributeError\u001b[0m: 'Dragon' object has no attribute 'reversed'"
     ]
    }
   ],
   "source": [
    "# see above\n",
    "\n",
    "class Dragon():\n",
    "    def __init__(self, name, claw_type, headnumber):\n",
    "        self.name = name\n",
    "        self.claw_type = claw_type\n",
    "        self.headnumber = headnumber\n",
    "        \n",
    "    #def __reversed__(self):\n",
    "        #return reversed(self.name)\n",
    "        \n",
    "    #okay, so overriding it.\n",
    "    def __reversed__(self):\n",
    "        self.name = name + \"-erella the Beautiful\"\n",
    "    \n",
    "ocho = Dragon(\"Ocho\", \"very thin\", \"three\")\n",
    "\n",
    "ocho.reversed()\n",
    "        "
   ]
  },
  {
   "cell_type": "markdown",
   "metadata": {},
   "source": [
    "#### In-Class Exercise #2 - Google another magic method and overwrite it's functionality..."
   ]
  },
  {
   "cell_type": "code",
   "execution_count": 75,
   "metadata": {},
   "outputs": [
    {
     "data": {
      "text/plain": [
       "1"
      ]
     },
     "execution_count": 75,
     "metadata": {},
     "output_type": "execute_result"
    }
   ],
   "source": [
    "class Dragon():\n",
    "    def __init__(self, name, claw_type, headnumber):\n",
    "        self.name = name\n",
    "        self.claw_type = claw_type\n",
    "        self.headnumber = headnumber\n",
    "        \n",
    "    def __len__(self):\n",
    "        for number in self.headnumber:\n",
    "            print(str(int(self.headnumber) + 8))\n",
    "    \n",
    "    def printDragon(self):\n",
    "        return len(self.headnumber)\n",
    "        \n",
    "    \n",
    "ocho = Dragon(\"Ocho\", \"very thin\", \"3\")\n",
    "#so stop trying to call this as a function because it's not.\n",
    "\n",
    "ocho.printDragon()\n",
    "\n",
    "        "
   ]
  },
  {
   "cell_type": "code",
   "execution_count": 70,
   "metadata": {},
   "outputs": [
    {
     "name": "stdout",
     "output_type": "stream",
     "text": [
      "False\n"
     ]
    }
   ],
   "source": [
    "#how joel does it.\n",
    "\n",
    "class Dog():\n",
    "    \n",
    "    def __init__(self, name, color, legs):\n",
    "        self.name = name\n",
    "        self.color = color\n",
    "        self.legs = legs\n",
    "        \n",
    "    def __eq__(self, extra):\n",
    "        if self.legs == extra.legs:\n",
    "            return True\n",
    "        else:\n",
    "            return False\n",
    "        \n",
    "        \n",
    "dog1 = Dog(\"Max\", \"mix\", 4)\n",
    "dog2 = Dog(\"Lassie\", \"red\", 18)\n",
    "dog3 = Dog(\"George\", \"clear\", 2)\n",
    "\n",
    "print(dog1==dog2)"
   ]
  },
  {
   "cell_type": "markdown",
   "metadata": {},
   "source": [
    "## Inheritance & Method Overriding (recap)"
   ]
  },
  {
   "cell_type": "markdown",
   "metadata": {},
   "source": [
    "#### Inheriting (recap)"
   ]
  },
  {
   "cell_type": "code",
   "execution_count": 76,
   "metadata": {},
   "outputs": [
    {
     "name": "stdout",
     "output_type": "stream",
     "text": [
      "This dog is a Mammal\n",
      "<__main__.Dog object at 0x0000025A37C27240>\n"
     ]
    }
   ],
   "source": [
    "class Animal():\n",
    "    def __init__(self, species):\n",
    "        self.species = species\n",
    "        \n",
    "    def __str__(self):\n",
    "        return \"This dog is a {}\".format(self.species)\n",
    "    \n",
    "class Dog(Animal):\n",
    "    def __init__(self, species, name):\n",
    "        self.name = name\n",
    "        Animal.__init__(self, species)\n",
    "        \n",
    "    def __str__(self):\n",
    "        return \"{} is part of {}\".format(self.name, self.species)\n",
    "    \n",
    "mammal = Animal(\"Mammal\")\n",
    "collie = Dog(\"Collie\", \"Mammal\")\n",
    "\n",
    "print(mammal)\n",
    "print(dog)"
   ]
  },
  {
   "cell_type": "markdown",
   "metadata": {},
   "source": [
    "#### Overriding Inherited Magic Methods"
   ]
  },
  {
   "cell_type": "code",
   "execution_count": null,
   "metadata": {},
   "outputs": [],
   "source": [
    "# see above"
   ]
  },
  {
   "cell_type": "markdown",
   "metadata": {},
   "source": [
    "#### Inheriting Multiple Classes"
   ]
  },
  {
   "cell_type": "code",
   "execution_count": 77,
   "metadata": {},
   "outputs": [
    {
     "name": "stdout",
     "output_type": "stream",
     "text": [
      "Clawdia is a part of the Canine and can run 487 kph\n"
     ]
    }
   ],
   "source": [
    "# Instead of super(), must specify which parent it belongs to...\n",
    "# Parent1.__init__(self, ...)\n",
    "# Parent2.__init__(self, ...)\n",
    "class Physics():\n",
    "    def __init__(self, speed):\n",
    "        self.gravity = 9.8\n",
    "        self.speed = speed\n",
    "        \n",
    "class Animal():\n",
    "    def __init__(self, species):\n",
    "        self.species = species\n",
    "        \n",
    "    def __str__(self):\n",
    "        return \"This is a {}\".format(self.species)\n",
    "\n",
    "class Dog(Animal, Physics):\n",
    "    def __init__(self, species, name, speed):\n",
    "        self.name = name\n",
    "        Animal.__init__(self, species)\n",
    "        Physics.__init__(self, speed)\n",
    "        \n",
    "        #below overrides the animal str magic method.\n",
    "    def __str__(self):\n",
    "        return \"{} is a part of the {} and can run {} kph\".format(self.name, self.species, self.speed)\n",
    "    \n",
    "clawdia = Dog(\"Canine\", \"Clawdia\", \"487\")\n",
    "\n",
    "print(clawdia)\n",
    "        \n",
    "        "
   ]
  },
  {
   "cell_type": "markdown",
   "metadata": {},
   "source": [
    "#### In-Class Exercise #3 - Create a transportation class, a physics class, and a bus class <br>\n",
    "<p>Create a transportation class, a physics class, and a bus class... Have the Bus class inherit both the transportation class and physics class. The physics class should have an attribute of speed, and print out the speed, plus have an acceleration method. The transportation class should have a 'type_of_transportation' attribute, and print the type(type_of_transportation [i.e road/air]) that is being used. The bus class should have attributes that describe the bus, such as; wheels, color, size, etc. Overwrite the __str__ method so that when you print the object, it prints out the bus information, and the speed.</p>"
   ]
  }
 ],
 "metadata": {
  "kernelspec": {
   "display_name": "Python 3",
   "language": "python",
   "name": "python3"
  },
  "language_info": {
   "codemirror_mode": {
    "name": "ipython",
    "version": 3
   },
   "file_extension": ".py",
   "mimetype": "text/x-python",
   "name": "python",
   "nbconvert_exporter": "python",
   "pygments_lexer": "ipython3",
   "version": "3.7.3"
  }
 },
 "nbformat": 4,
 "nbformat_minor": 2
}
